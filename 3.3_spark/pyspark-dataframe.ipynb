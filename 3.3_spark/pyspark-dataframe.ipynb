{
 "cells": [
  {
   "cell_type": "markdown",
   "metadata": {},
   "source": [
    "# PySpark DataFrame Operations\n",
    "\n",
    "## CIML Summer Institute\n",
    "\n",
    "Mai H. Nguyen - UC San Diego\n",
    "\n",
    "--- \n",
    "\n",
    "Spark DataFrame Guide:  https://spark.apache.org/docs/latest/sql-programming-guide.html\n",
    "\n",
    "PySpark API Documentation: https://spark.apache.org/docs/latest/api/python/index.html\n"
   ]
  },
  {
   "cell_type": "markdown",
   "metadata": {},
   "source": [
    "## Setup"
   ]
  },
  {
   "cell_type": "code",
   "execution_count": 1,
   "metadata": {},
   "outputs": [
    {
     "name": "stdout",
     "output_type": "stream",
     "text": [
      "3.1.2 3.1.2\n"
     ]
    }
   ],
   "source": [
    "# Initialize Spark\n",
    "\n",
    "import pyspark\n",
    "from pyspark.sql import SparkSession, Row\n",
    "\n",
    "import os\n",
    "\n",
    "conf = pyspark.SparkConf().setAll([('spark.master', 'local[*]'),\n",
    "                                   ('spark.app.name', 'PySpark DataFrame Demo')])\n",
    "spark = SparkSession.builder.config(conf=conf).getOrCreate()\n",
    "\n",
    "print (spark.version, pyspark.version.__version__)"
   ]
  },
  {
   "cell_type": "markdown",
   "metadata": {},
   "source": [
    "---\n",
    "## Employee example "
   ]
  },
  {
   "cell_type": "markdown",
   "metadata": {},
   "source": [
    "### Create Employee DataFrame"
   ]
  },
  {
   "cell_type": "code",
   "execution_count": 2,
   "metadata": {},
   "outputs": [
    {
     "name": "stdout",
     "output_type": "stream",
     "text": [
      "+-----+-------+-----+------+\n",
      "| name|   dept|state|salary|\n",
      "+-----+-------+-----+------+\n",
      "|James|  Sales|   CA|100000|\n",
      "| Mary|Finance|   NY|120000|\n",
      "| Jane|  Sales|   WA|160000|\n",
      "+-----+-------+-----+------+\n",
      "\n"
     ]
    }
   ],
   "source": [
    "Employee = Row(\"name\", \"dept\", \"state\", \"salary\")\n",
    "employee1 = Employee('James', 'Sales', 'CA', 100000)\n",
    "employee2 = Employee('Mary', 'Finance', 'NY', 120000)\n",
    "employee3 = Employee('Jane', 'Sales', 'WA', 160000)\n",
    "employees = [employee1, employee2, employee3]\n",
    "employeesDF = spark.createDataFrame(employees)\n",
    "employeesDF.show()"
   ]
  },
  {
   "cell_type": "markdown",
   "metadata": {},
   "source": [
    "### Check type"
   ]
  },
  {
   "cell_type": "code",
   "execution_count": 3,
   "metadata": {},
   "outputs": [
    {
     "data": {
      "text/plain": [
       "pyspark.sql.dataframe.DataFrame"
      ]
     },
     "execution_count": 3,
     "metadata": {},
     "output_type": "execute_result"
    }
   ],
   "source": [
    "type(employeesDF)"
   ]
  },
  {
   "cell_type": "markdown",
   "metadata": {},
   "source": [
    "### Count number of rows"
   ]
  },
  {
   "cell_type": "code",
   "execution_count": 4,
   "metadata": {},
   "outputs": [
    {
     "data": {
      "text/plain": [
       "3"
      ]
     },
     "execution_count": 4,
     "metadata": {},
     "output_type": "execute_result"
    }
   ],
   "source": [
    "employeesDF.count()"
   ]
  },
  {
   "cell_type": "markdown",
   "metadata": {},
   "source": [
    "### Count number of columns"
   ]
  },
  {
   "cell_type": "code",
   "execution_count": 5,
   "metadata": {},
   "outputs": [
    {
     "data": {
      "text/plain": [
       "4"
      ]
     },
     "execution_count": 5,
     "metadata": {},
     "output_type": "execute_result"
    }
   ],
   "source": [
    "len(employeesDF.columns)"
   ]
  },
  {
   "cell_type": "markdown",
   "metadata": {},
   "source": [
    "### See column names"
   ]
  },
  {
   "cell_type": "code",
   "execution_count": 6,
   "metadata": {},
   "outputs": [
    {
     "data": {
      "text/plain": [
       "['name', 'dept', 'state', 'salary']"
      ]
     },
     "execution_count": 6,
     "metadata": {},
     "output_type": "execute_result"
    }
   ],
   "source": [
    "employeesDF.columns"
   ]
  },
  {
   "cell_type": "markdown",
   "metadata": {},
   "source": [
    "### Display schema"
   ]
  },
  {
   "cell_type": "code",
   "execution_count": 7,
   "metadata": {},
   "outputs": [
    {
     "name": "stdout",
     "output_type": "stream",
     "text": [
      "root\n",
      " |-- name: string (nullable = true)\n",
      " |-- dept: string (nullable = true)\n",
      " |-- state: string (nullable = true)\n",
      " |-- salary: long (nullable = true)\n",
      "\n"
     ]
    }
   ],
   "source": [
    "employeesDF.printSchema()"
   ]
  },
  {
   "cell_type": "markdown",
   "metadata": {},
   "source": [
    "### Show contents"
   ]
  },
  {
   "cell_type": "markdown",
   "metadata": {},
   "source": [
    "Show contents of employeesDF"
   ]
  },
  {
   "cell_type": "code",
   "execution_count": 8,
   "metadata": {},
   "outputs": [
    {
     "name": "stdout",
     "output_type": "stream",
     "text": [
      "+-----+-------+-----+------+\n",
      "| name|   dept|state|salary|\n",
      "+-----+-------+-----+------+\n",
      "|James|  Sales|   CA|100000|\n",
      "| Mary|Finance|   NY|120000|\n",
      "| Jane|  Sales|   WA|160000|\n",
      "+-----+-------+-----+------+\n",
      "\n"
     ]
    }
   ],
   "source": [
    "employeesDF.show()"
   ]
  },
  {
   "cell_type": "markdown",
   "metadata": {},
   "source": [
    "What does this return?"
   ]
  },
  {
   "cell_type": "code",
   "execution_count": 9,
   "metadata": {},
   "outputs": [
    {
     "name": "stdout",
     "output_type": "stream",
     "text": [
      "+-----+-----+-----+------+\n",
      "| name| dept|state|salary|\n",
      "+-----+-----+-----+------+\n",
      "|James|Sales|   CA|100000|\n",
      "+-----+-----+-----+------+\n",
      "only showing top 1 row\n",
      "\n"
     ]
    }
   ],
   "source": [
    "employeesDF.show(1)"
   ]
  },
  {
   "cell_type": "markdown",
   "metadata": {},
   "source": [
    "How is this different from the previous cell?"
   ]
  },
  {
   "cell_type": "code",
   "execution_count": 10,
   "metadata": {},
   "outputs": [
    {
     "name": "stdout",
     "output_type": "stream",
     "text": [
      "+-----+\n",
      "| name|\n",
      "+-----+\n",
      "|James|\n",
      "| Mary|\n",
      "| Jane|\n",
      "+-----+\n",
      "\n"
     ]
    }
   ],
   "source": [
    "employeesDF.select(\"name\").show()"
   ]
  },
  {
   "cell_type": "markdown",
   "metadata": {},
   "source": [
    "### Get summary statistics"
   ]
  },
  {
   "cell_type": "code",
   "execution_count": 11,
   "metadata": {},
   "outputs": [
    {
     "name": "stdout",
     "output_type": "stream",
     "text": [
      "+-----+-------+-----+------+\n",
      "| name|   dept|state|salary|\n",
      "+-----+-------+-----+------+\n",
      "|James|  Sales|   CA|100000|\n",
      "| Mary|Finance|   NY|120000|\n",
      "| Jane|  Sales|   WA|160000|\n",
      "+-----+-------+-----+------+\n",
      "\n"
     ]
    }
   ],
   "source": [
    "employeesDF.show()"
   ]
  },
  {
   "cell_type": "code",
   "execution_count": 12,
   "metadata": {},
   "outputs": [
    {
     "name": "stdout",
     "output_type": "stream",
     "text": [
      "+-------+-----+-------+-----+------------------+\n",
      "|summary| name|   dept|state|            salary|\n",
      "+-------+-----+-------+-----+------------------+\n",
      "|  count|    3|      3|    3|                 3|\n",
      "|   mean| null|   null| null|126666.66666666667|\n",
      "| stddev| null|   null| null|30550.504633038934|\n",
      "|    min|James|Finance|   CA|            100000|\n",
      "|    max| Mary|  Sales|   WA|            160000|\n",
      "+-------+-----+-------+-----+------------------+\n",
      "\n"
     ]
    }
   ],
   "source": [
    "employeesDF.describe().show()"
   ]
  },
  {
   "cell_type": "code",
   "execution_count": 13,
   "metadata": {},
   "outputs": [
    {
     "name": "stdout",
     "output_type": "stream",
     "text": [
      "+-------+------------------+\n",
      "|summary|            salary|\n",
      "+-------+------------------+\n",
      "|  count|                 3|\n",
      "|   mean|126666.66666666667|\n",
      "| stddev|30550.504633038934|\n",
      "|    min|            100000|\n",
      "|    max|            160000|\n",
      "+-------+------------------+\n",
      "\n"
     ]
    }
   ],
   "source": [
    "employeesDF.select('salary').describe().show()"
   ]
  },
  {
   "cell_type": "markdown",
   "metadata": {},
   "source": [
    "### Find average salary by department"
   ]
  },
  {
   "cell_type": "code",
   "execution_count": 14,
   "metadata": {},
   "outputs": [
    {
     "name": "stdout",
     "output_type": "stream",
     "text": [
      "+-----+-------+-----+------+\n",
      "| name|   dept|state|salary|\n",
      "+-----+-------+-----+------+\n",
      "|James|  Sales|   CA|100000|\n",
      "| Mary|Finance|   NY|120000|\n",
      "| Jane|  Sales|   WA|160000|\n",
      "+-----+-------+-----+------+\n",
      "\n"
     ]
    }
   ],
   "source": [
    "employeesDF.show()"
   ]
  },
  {
   "cell_type": "code",
   "execution_count": 15,
   "metadata": {},
   "outputs": [
    {
     "name": "stdout",
     "output_type": "stream",
     "text": [
      "+-------+-----------+\n",
      "|   dept|avg(salary)|\n",
      "+-------+-----------+\n",
      "|  Sales|   130000.0|\n",
      "|Finance|   120000.0|\n",
      "+-------+-----------+\n",
      "\n"
     ]
    }
   ],
   "source": [
    "employeesDF.groupBy('dept').avg('salary').show()"
   ]
  },
  {
   "cell_type": "markdown",
   "metadata": {},
   "source": [
    "### Count employees by department\n",
    "Group employees by department, then find count."
   ]
  },
  {
   "cell_type": "code",
   "execution_count": 16,
   "metadata": {},
   "outputs": [
    {
     "name": "stdout",
     "output_type": "stream",
     "text": [
      "+-------+-----+\n",
      "|   dept|count|\n",
      "+-------+-----+\n",
      "|  Sales|    2|\n",
      "|Finance|    1|\n",
      "+-------+-----+\n",
      "\n"
     ]
    }
   ],
   "source": [
    "employeesDF.groupBy('dept').count().show()"
   ]
  },
  {
   "cell_type": "markdown",
   "metadata": {},
   "source": [
    "### Filter"
   ]
  },
  {
   "cell_type": "code",
   "execution_count": 17,
   "metadata": {},
   "outputs": [
    {
     "name": "stdout",
     "output_type": "stream",
     "text": [
      "+-----+-----+-----+------+\n",
      "| name| dept|state|salary|\n",
      "+-----+-----+-----+------+\n",
      "|James|Sales|   CA|100000|\n",
      "| Jane|Sales|   WA|160000|\n",
      "+-----+-----+-----+------+\n",
      "\n"
     ]
    }
   ],
   "source": [
    "employeesDF.filter(employeesDF.dept=='Sales').show()"
   ]
  },
  {
   "cell_type": "markdown",
   "metadata": {},
   "source": [
    "### Sort by name"
   ]
  },
  {
   "cell_type": "markdown",
   "metadata": {},
   "source": [
    "Sort by name, and save in a new DataFrame"
   ]
  },
  {
   "cell_type": "code",
   "execution_count": 18,
   "metadata": {},
   "outputs": [],
   "source": [
    "employees_sortedDF = employeesDF.sort('name', ascending=True)"
   ]
  },
  {
   "cell_type": "code",
   "execution_count": 19,
   "metadata": {},
   "outputs": [
    {
     "name": "stdout",
     "output_type": "stream",
     "text": [
      "+-----+-------+-----+------+\n",
      "| name|   dept|state|salary|\n",
      "+-----+-------+-----+------+\n",
      "|James|  Sales|   CA|100000|\n",
      "| Jane|  Sales|   WA|160000|\n",
      "| Mary|Finance|   NY|120000|\n",
      "+-----+-------+-----+------+\n",
      "\n"
     ]
    }
   ],
   "source": [
    "employees_sortedDF.show()"
   ]
  },
  {
   "cell_type": "markdown",
   "metadata": {},
   "source": [
    "### Save sorted DataFrame to file"
   ]
  },
  {
   "cell_type": "code",
   "execution_count": 20,
   "metadata": {},
   "outputs": [],
   "source": [
    "employees_sortedDF.coalesce(1).\\\n",
    "write.csv(\"employees_sorted.csv\", header=True, mode=\"overwrite\")"
   ]
  },
  {
   "cell_type": "markdown",
   "metadata": {},
   "source": [
    "----\n",
    "## Sentence example "
   ]
  },
  {
   "cell_type": "markdown",
   "metadata": {},
   "source": [
    "### Create DataFrame with sentences"
   ]
  },
  {
   "cell_type": "code",
   "execution_count": 21,
   "metadata": {},
   "outputs": [
    {
     "name": "stdout",
     "output_type": "stream",
     "text": [
      "+--------------------+\n",
      "|               value|\n",
      "+--------------------+\n",
      "|  This is a sentence|\n",
      "|This is another s...|\n",
      "+--------------------+\n",
      "\n"
     ]
    }
   ],
   "source": [
    "sent_0 = Row(value='This is a sentence')\n",
    "sent_1 = Row(value='This is another sentence')\n",
    "sentences = [sent_0, sent_1]\n",
    "sentenceDF = spark.createDataFrame(sentences)\n",
    "sentenceDF.show()"
   ]
  },
  {
   "cell_type": "markdown",
   "metadata": {},
   "source": [
    "### Examples to show split() and explode()"
   ]
  },
  {
   "cell_type": "markdown",
   "metadata": {},
   "source": [
    "Split sentences on space, and rename the resulting column to 'csv'."
   ]
  },
  {
   "cell_type": "code",
   "execution_count": 22,
   "metadata": {},
   "outputs": [
    {
     "name": "stdout",
     "output_type": "stream",
     "text": [
      "+--------------------+\n",
      "|                 csv|\n",
      "+--------------------+\n",
      "|[This, is, a, sen...|\n",
      "|[This, is, anothe...|\n",
      "+--------------------+\n",
      "\n"
     ]
    }
   ],
   "source": [
    "from pyspark.sql.functions import split, explode, col\n",
    "\n",
    "wordsDF1 = sentenceDF.select(split(\"value\",\" \").alias(\"csv\"))\n",
    "wordsDF1.show()"
   ]
  },
  {
   "cell_type": "markdown",
   "metadata": {},
   "source": [
    "Map each column in wordsDF1 to a separate column and put the results in a new DataFrame.\n",
    "Hint:  Use 'explode'."
   ]
  },
  {
   "cell_type": "code",
   "execution_count": 23,
   "metadata": {},
   "outputs": [
    {
     "name": "stdout",
     "output_type": "stream",
     "text": [
      "+--------+\n",
      "|    word|\n",
      "+--------+\n",
      "|    This|\n",
      "|      is|\n",
      "|       a|\n",
      "|sentence|\n",
      "|    This|\n",
      "|      is|\n",
      "| another|\n",
      "|sentence|\n",
      "+--------+\n",
      "\n"
     ]
    }
   ],
   "source": [
    "wordsDF2 = wordsDF1.select(explode(\"csv\").alias(\"word\"))\n",
    "wordsDF2.show()"
   ]
  },
  {
   "cell_type": "markdown",
   "metadata": {},
   "source": [
    "Filter this new DataFrame to return rows containing the word 'This'."
   ]
  },
  {
   "cell_type": "code",
   "execution_count": 24,
   "metadata": {},
   "outputs": [
    {
     "name": "stdout",
     "output_type": "stream",
     "text": [
      "+----+\n",
      "|word|\n",
      "+----+\n",
      "|This|\n",
      "|This|\n",
      "+----+\n",
      "\n"
     ]
    }
   ],
   "source": [
    "wordsDF2.filter(col(\"word\") == \"This\").show()"
   ]
  },
  {
   "cell_type": "markdown",
   "metadata": {},
   "source": [
    "## Stop Spark session"
   ]
  },
  {
   "cell_type": "code",
   "execution_count": 25,
   "metadata": {},
   "outputs": [],
   "source": [
    "spark.stop()"
   ]
  },
  {
   "cell_type": "code",
   "execution_count": null,
   "metadata": {},
   "outputs": [],
   "source": []
  }
 ],
 "metadata": {
  "kernelspec": {
   "display_name": "Python 3",
   "language": "python",
   "name": "python3"
  },
  "language_info": {
   "codemirror_mode": {
    "name": "ipython",
    "version": 3
   },
   "file_extension": ".py",
   "mimetype": "text/x-python",
   "name": "python",
   "nbconvert_exporter": "python",
   "pygments_lexer": "ipython3",
   "version": "3.8.5"
  }
 },
 "nbformat": 4,
 "nbformat_minor": 4
}
