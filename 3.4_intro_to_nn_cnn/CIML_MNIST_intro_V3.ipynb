{
 "cells": [
  {
   "cell_type": "markdown",
   "metadata": {},
   "source": [
    "## MNIST exercise (handwritten printed digits recognition tutorial) ##\n",
    "**Goal: Introduction to Keras, convolution feature maps, and features**\n",
    "\n",
    "**Exercise:**\n",
    "    \n",
    "1. Review the steps of the code\n",
    "2. Look at how the model is set up with layers\n",
    "3. run the notebook, observe the images of filter weights and activations (at end)\n",
    "4. Try changing the filter size for the first convolution layer to something large (like 9x9 or 16x16)\n",
    "5. compare the filters and activation to the 3x3 filter size\n",
    "\n"
   ]
  },
  {
   "cell_type": "code",
   "execution_count": 1,
   "metadata": {},
   "outputs": [
    {
     "name": "stdout",
     "output_type": "stream",
     "text": [
      "import done\n"
     ]
    }
   ],
   "source": [
    "\n",
    "# ----------- IMPORT STATEMENTS ---------------\n",
    "import numpy as np\n",
    "np.random.seed(1)  # for reproducibility\n",
    " \n",
    "from tensorflow import keras\n",
    "\n",
    "if 1:\n",
    " from tensorflow.keras.models import Sequential        #the standard stack of layers models\n",
    " from tensorflow.keras.layers import Dense, Dropout, Activation, Flatten   #core layer  functions\n",
    " from tensorflow.keras.layers import Convolution2D, MaxPooling2D, AveragePooling2D     #convolution layer functions\n",
    " from tensorflow.keras import optimizers                             #For training \n",
    "\n",
    "# Load the TensorBoard notebook extension\n",
    "%load_ext tensorboard\n",
    "\n",
    "import tensorflow as tf\n",
    "import datetime, os\n",
    "\n",
    "#---------------------------------------------\n",
    "print('import done')"
   ]
  },
  {
   "cell_type": "code",
   "execution_count": 2,
   "metadata": {},
   "outputs": [
    {
     "name": "stdout",
     "output_type": "stream",
     "text": [
      "data loaded:(60000, 28, 28)\n"
     ]
    }
   ],
   "source": [
    "#Load MNIST data from Keras datasets\n",
    "(X_train, Y_train), (X_test, Y_test) = tf.keras.datasets.mnist.load_data()\n",
    "\n",
    "print('data loaded:'+str(X_train.shape))"
   ]
  },
  {
   "cell_type": "code",
   "execution_count": 3,
   "metadata": {},
   "outputs": [
    {
     "name": "stdout",
     "output_type": "stream",
     "text": [
      "train shapes: \n",
      "\n",
      "(1000, 28, 28)\n",
      "(1000,)\n",
      "img load done\n"
     ]
    }
   ],
   "source": [
    "X_train=X_train[0:1000,]  #only need smaller subset to get good results\n",
    "Y_train=Y_train[0:1000,]\n",
    "\n",
    "print('train shapes: \\n')\n",
    "print(X_train.shape)     #review the dimensions Note python3 uses print(X..) python 2 uses print X...\n",
    "print(Y_train.shape)\n",
    "print('img load done')\n"
   ]
  },
  {
   "cell_type": "code",
   "execution_count": 4,
   "metadata": {},
   "outputs": [
    {
     "name": "stdout",
     "output_type": "stream",
     "text": [
      "added dimension\n"
     ]
    }
   ],
   "source": [
    "# --------- Reshape input data ------------\n",
    "#  b/c Keras expects N-3D images (ie 4D matrix)\n",
    "X_train = X_train[:,:,:,np.newaxis]\n",
    "X_test  = X_test[:,:,:,np.newaxis]\n",
    "\n",
    "print('added dimension')"
   ]
  },
  {
   "cell_type": "code",
   "execution_count": 5,
   "metadata": {},
   "outputs": [
    {
     "name": "stdout",
     "output_type": "stream",
     "text": [
      "(1000, 28, 28, 1)\n",
      "(1000, 10)\n",
      "(10000, 28, 28, 1)\n",
      "(10000, 10)\n"
     ]
    }
   ],
   "source": [
    "#convert and put into 0-1 range\n",
    "X_train  = X_train.astype('float32')\n",
    "X_test   = X_test.astype('float32')\n",
    "\n",
    "#Scale 0 to 1  - or should we not scale\n",
    "X_train /= 255\n",
    "X_test  /= 255\n",
    "\n",
    "# Convert 1-dimensional class arrays to 10-dimensional class matrices\n",
    "Y_train = keras.utils.to_categorical(Y_train, 10)\n",
    "Y_test  = keras.utils.to_categorical(Y_test,  10)\n",
    "\n",
    "# ------------- End loading and preparing data --------------\n",
    "#To confirm, we can print X_train's dimensions again:\n",
    "print(X_train.shape)\n",
    "print(Y_train.shape)\n",
    "print(X_test.shape)\n",
    "print(Y_test.shape)\n",
    "\n"
   ]
  },
  {
   "cell_type": "code",
   "execution_count": 6,
   "metadata": {},
   "outputs": [
    {
     "name": "stdout",
     "output_type": "stream",
     "text": [
      "modeldef and first conv layer done\n"
     ]
    }
   ],
   "source": [
    "# --------------Set up Model ---------------------\n",
    "mymodel = keras.models.Sequential()\n",
    "\n",
    "numfilters = 16  # <<<< -------- for 10 digits what is min number of filters needed?\n",
    "\n",
    "#     input shape for 1 image, channels refers to color dimension of input image\n",
    "mymodel.add(keras.layers.Convolution2D(numfilters, (3,3),strides=1,  data_format=\"channels_last\",activation='relu', input_shape=(28,28,1))) \n",
    "#                                                 /\\ \n",
    "#                                                 /\\\n",
    "#                                                 |--------EXERCISE try changing 3,3  to 9,9 for example \n",
    " \n",
    "print('modeldef and first conv layer done')\n"
   ]
  },
  {
   "cell_type": "code",
   "execution_count": 7,
   "metadata": {},
   "outputs": [
    {
     "name": "stdout",
     "output_type": "stream",
     "text": [
      "added more layers\n",
      "assemble model done\n"
     ]
    }
   ],
   "source": [
    "#-----------------Now add more Convolution layers\n",
    "mymodel.add(Convolution2D(numfilters, (3, 3), strides=1, data_format=\"channels_last\", activation='relu'))\n",
    "mymodel.add(MaxPooling2D(pool_size=(2,2),strides=2,data_format=\"channels_last\")) #get Max over 2D region,and slide\n",
    "mymodel.add(Flatten())            #reorganize 2DxFilters output into 1D\n",
    "print('added more layers')\n",
    "\n",
    "#----------------Now add final classification layers\n",
    "mymodel.add(Dense(32, activation='relu'))  #enter number of hidden units (no good rule, but start with ~ num of previous output) \n",
    "mymodel.add(Dense(10, activation='softmax'))\n",
    "print('assemble model done')"
   ]
  },
  {
   "cell_type": "code",
   "execution_count": 8,
   "metadata": {},
   "outputs": [
    {
     "name": "stdout",
     "output_type": "stream",
     "text": [
      "compiled\n"
     ]
    }
   ],
   "source": [
    "# --------- Now assemble (ie compile TensorFlow commands) and run -----\n",
    "mymodel.compile(loss='categorical_crossentropy',\n",
    "               optimizer='sgd',\n",
    "               metrics=['accuracy'])\n",
    "print('compiled')"
   ]
  },
  {
   "cell_type": "code",
   "execution_count": 9,
   "metadata": {},
   "outputs": [
    {
     "name": "stdout",
     "output_type": "stream",
     "text": [
      "Model: \"sequential\"\n",
      "_________________________________________________________________\n",
      "Layer (type)                 Output Shape              Param #   \n",
      "=================================================================\n",
      "conv2d (Conv2D)              (None, 26, 26, 16)        160       \n",
      "_________________________________________________________________\n",
      "conv2d_1 (Conv2D)            (None, 24, 24, 16)        2320      \n",
      "_________________________________________________________________\n",
      "max_pooling2d (MaxPooling2D) (None, 12, 12, 16)        0         \n",
      "_________________________________________________________________\n",
      "flatten (Flatten)            (None, 2304)              0         \n",
      "_________________________________________________________________\n",
      "dense (Dense)                (None, 32)                73760     \n",
      "_________________________________________________________________\n",
      "dense_1 (Dense)              (None, 10)                330       \n",
      "=================================================================\n",
      "Total params: 76,570\n",
      "Trainable params: 76,570\n",
      "Non-trainable params: 0\n",
      "_________________________________________________________________\n"
     ]
    }
   ],
   "source": [
    "mymodel.summary()"
   ]
  },
  {
   "cell_type": "code",
   "execution_count": 10,
   "metadata": {},
   "outputs": [
    {
     "name": "stdout",
     "output_type": "stream",
     "text": [
      "Epoch 1/20\n",
      "32/32 [==============================] - 1s 23ms/step - loss: 2.2999 - accuracy: 0.1220 - val_loss: 2.2705 - val_accuracy: 0.2246\n",
      "Epoch 2/20\n",
      "32/32 [==============================] - 1s 17ms/step - loss: 2.2395 - accuracy: 0.3310 - val_loss: 2.2045 - val_accuracy: 0.3819\n",
      "Epoch 3/20\n",
      "32/32 [==============================] - 1s 17ms/step - loss: 2.1258 - accuracy: 0.4960 - val_loss: 2.0182 - val_accuracy: 0.5088\n",
      "Epoch 4/20\n",
      "32/32 [==============================] - 1s 17ms/step - loss: 1.7768 - accuracy: 0.5970 - val_loss: 1.5325 - val_accuracy: 0.5611\n",
      "Epoch 5/20\n",
      "32/32 [==============================] - 1s 17ms/step - loss: 1.1514 - accuracy: 0.7010 - val_loss: 1.0976 - val_accuracy: 0.6688\n",
      "Epoch 6/20\n",
      "32/32 [==============================] - 1s 17ms/step - loss: 0.7841 - accuracy: 0.7840 - val_loss: 0.7471 - val_accuracy: 0.7745\n",
      "Epoch 7/20\n",
      "32/32 [==============================] - 1s 17ms/step - loss: 0.6022 - accuracy: 0.8200 - val_loss: 0.7181 - val_accuracy: 0.7627\n",
      "Epoch 8/20\n",
      "32/32 [==============================] - 1s 17ms/step - loss: 0.5065 - accuracy: 0.8400 - val_loss: 0.8206 - val_accuracy: 0.7353\n",
      "Epoch 9/20\n",
      "32/32 [==============================] - 1s 17ms/step - loss: 0.4727 - accuracy: 0.8640 - val_loss: 0.6815 - val_accuracy: 0.7778\n",
      "Epoch 10/20\n",
      "32/32 [==============================] - 1s 17ms/step - loss: 0.4545 - accuracy: 0.8590 - val_loss: 0.6718 - val_accuracy: 0.7887\n",
      "Epoch 11/20\n",
      "32/32 [==============================] - 1s 17ms/step - loss: 0.4074 - accuracy: 0.8730 - val_loss: 0.5621 - val_accuracy: 0.8249\n",
      "Epoch 12/20\n",
      "32/32 [==============================] - 1s 17ms/step - loss: 0.3518 - accuracy: 0.8950 - val_loss: 0.6883 - val_accuracy: 0.7776\n",
      "Epoch 13/20\n",
      "32/32 [==============================] - 1s 17ms/step - loss: 0.3361 - accuracy: 0.8940 - val_loss: 0.5638 - val_accuracy: 0.8157\n",
      "Epoch 14/20\n",
      "32/32 [==============================] - 1s 17ms/step - loss: 0.3212 - accuracy: 0.9020 - val_loss: 0.8609 - val_accuracy: 0.7462\n",
      "Epoch 15/20\n",
      "32/32 [==============================] - 1s 17ms/step - loss: 0.3153 - accuracy: 0.9040 - val_loss: 0.5085 - val_accuracy: 0.8415\n",
      "Epoch 16/20\n",
      "32/32 [==============================] - 1s 17ms/step - loss: 0.2927 - accuracy: 0.9110 - val_loss: 0.7847 - val_accuracy: 0.7674\n",
      "Epoch 17/20\n",
      "32/32 [==============================] - 1s 17ms/step - loss: 0.2761 - accuracy: 0.9180 - val_loss: 1.6498 - val_accuracy: 0.6432\n",
      "Epoch 18/20\n",
      "32/32 [==============================] - 1s 17ms/step - loss: 0.3240 - accuracy: 0.9180 - val_loss: 0.4362 - val_accuracy: 0.8694\n",
      "Epoch 19/20\n",
      "32/32 [==============================] - 1s 17ms/step - loss: 0.2488 - accuracy: 0.9300 - val_loss: 0.4467 - val_accuracy: 0.8650\n",
      "Epoch 20/20\n",
      "32/32 [==============================] - 1s 18ms/step - loss: 0.2306 - accuracy: 0.9340 - val_loss: 0.5684 - val_accuracy: 0.8258\n"
     ]
    }
   ],
   "source": [
    "from tensorflow.keras.callbacks import EarlyStopping\n",
    "myES_function = EarlyStopping(monitor='val_loss', mode='min', patience=5) #patience before stopping\n",
    "   \n",
    "#------------ Now Run Training\n",
    "fit_history=mymodel.fit(X_train, Y_train, #validation_split=0.20,\n",
    "          validation_data=(X_test,Y_test),\n",
    "          batch_size=32, epochs=20, verbose=1,callbacks=[myES_function])"
   ]
  },
  {
   "cell_type": "code",
   "execution_count": 11,
   "metadata": {},
   "outputs": [
    {
     "name": "stdout",
     "output_type": "stream",
     "text": [
      "Failed to initialize NVML: Driver/library version mismatch\n"
     ]
    },
    {
     "data": {
      "text/plain": [
       "[PhysicalDevice(name='/physical_device:CPU:0', device_type='CPU')]"
      ]
     },
     "execution_count": 11,
     "metadata": {},
     "output_type": "execute_result"
    }
   ],
   "source": [
    "!nvidia-smi\n",
    "tf.config.list_physical_devices()"
   ]
  },
  {
   "cell_type": "code",
   "execution_count": 12,
   "metadata": {},
   "outputs": [
    {
     "name": "stdout",
     "output_type": "stream",
     "text": [
      "dict_keys(['loss', 'accuracy', 'val_loss', 'val_accuracy'])\n"
     ]
    },
    {
     "data": {
      "image/png": "[encoded data removed]",
      "text/plain": [
       "<matplotlib.figure.Figure at 0x7fff6856dfd0>"
      ]
     },
     "metadata": {},
     "output_type": "display_data"
    }
   ],
   "source": [
    "import matplotlib.pyplot as plt      #These provide matlab type of plotting functions\n",
    "import matplotlib.image as mpimg\n",
    "%matplotlib inline                   \n",
    "\n",
    "# list all data in history and print out performance\n",
    "print(fit_history.history.keys())\n",
    "\n",
    "# summarize history for accuracy\n",
    "plt.figure()\n",
    "plt.axis([0 ,10, 0, 1])\n",
    "plt.plot(fit_history.history['accuracy'])\n",
    "plt.plot(fit_history.history['val_accuracy'])\n",
    "plt.title('model accuracy')\n",
    "plt.ylabel('accuracy')\n",
    "plt.xlabel('epoch')\n",
    "plt.legend(['train', 'val_test'], loc='upper left')\n",
    "plt.show()"
   ]
  },
  {
   "cell_type": "code",
   "execution_count": 13,
   "metadata": {},
   "outputs": [],
   "source": [
    "#"
   ]
  },
  {
   "cell_type": "code",
   "execution_count": 14,
   "metadata": {},
   "outputs": [
    {
     "data": {
      "text/plain": [
       "<matplotlib.image.AxesImage at 0x7fff105aab38>"
      ]
     },
     "execution_count": 14,
     "metadata": {},
     "output_type": "execute_result"
    },
    {
     "data": {
      "image/png": "[encoded data removed]",
      "text/plain": [
       "<matplotlib.figure.Figure at 0x7fff685d3a58>"
      ]
     },
     "metadata": {},
     "output_type": "display_data"
    }
   ],
   "source": [
    "#To view a sample image\n",
    "import matplotlib.pyplot as plt      #These provide matlab type of plotting functions\n",
    "import matplotlib.image as mpimg\n",
    "\n",
    "tmpimg=np.squeeze(X_train[0,:,:,:]).reshape((28,28))\n",
    "plt.imshow(tmpimg,'gray')   "
   ]
  },
  {
   "cell_type": "code",
   "execution_count": null,
   "metadata": {},
   "outputs": [],
   "source": [
    "\n"
   ]
  },
  {
   "cell_type": "code",
   "execution_count": 15,
   "metadata": {},
   "outputs": [
    {
     "name": "stdout",
     "output_type": "stream",
     "text": [
      "W3D shape Wlist[0]:(3, 3, 16)\n"
     ]
    },
    {
     "data": {
      "image/png": "[encoded data removed]",
      "text/plain": [
       "<matplotlib.figure.Figure at 0x7fff10555940>"
      ]
     },
     "metadata": {},
     "output_type": "display_data"
    },
    {
     "name": "stdout",
     "output_type": "stream",
     "text": [
      "done plotting weights mosaic\n"
     ]
    }
   ],
   "source": [
    "# ------------ GET WEIGHTS From Convolution Layer and make mosaic image \n",
    "Wlist   =mymodel.layers[0].get_weights()      \n",
    "W3D     =np.squeeze(Wlist[0])\n",
    "print(\"W3D shape Wlist[0]:\"+str(W3D.shape))\n",
    "W3Dchan =W3D.swapaxes(1,2).swapaxes(0,1)  #get the channels as 1st dimension;\n",
    "\n",
    "#plot mosaic of filters of \n",
    "ncol =4\n",
    "nrow =np.ceil(numfilters/ncol)\n",
    "plt.figure()\n",
    "for i in range(W3Dchan.shape[0]):\n",
    "   plt.subplot(nrow,ncol,i+1)\n",
    "   plt.imshow(W3Dchan[i],'gray')\n",
    "   plt.axis('off')\n",
    "\n",
    "plt.show()\n",
    "print('done plotting weights mosaic')"
   ]
  },
  {
   "cell_type": "code",
   "execution_count": 16,
   "metadata": {},
   "outputs": [],
   "source": [
    "#"
   ]
  },
  {
   "cell_type": "code",
   "execution_count": 17,
   "metadata": {},
   "outputs": [
    {
     "name": "stdout",
     "output_type": "stream",
     "text": [
      "6 layers with output activations\n"
     ]
    }
   ],
   "source": [
    "#  ---------------- NOW Visualize the activations for the first training example --------\n",
    "#   1. gather activations from the model layers\n",
    "# -------------------------------------------------------------------------\n",
    "import numpy as np\n",
    "\n",
    "layer_outputs     = [layer.output for layer in mymodel.layers[:]]\n",
    "my_model_actvtns  = keras.models.Model(inputs=mymodel.input, outputs=layer_outputs)\n",
    "x                 = np.expand_dims(X_train[0],0)           #set up a 4D input of 1 image training set \n",
    "my_actvtns_output = my_model_actvtns.predict(x)   #for each image get predictions/activatns\n",
    "\n",
    "print(str(len(my_actvtns_output))+ ' layers with output activations')\n",
    "\n"
   ]
  },
  {
   "cell_type": "code",
   "execution_count": 18,
   "metadata": {},
   "outputs": [],
   "source": [
    "#"
   ]
  },
  {
   "cell_type": "code",
   "execution_count": 19,
   "metadata": {
    "scrolled": true
   },
   "outputs": [
    {
     "data": {
      "image/png": "[encoded data removed]",
      "text/plain": [
       "<matplotlib.figure.Figure at 0x7fff86f98eb8>"
      ]
     },
     "metadata": {},
     "output_type": "display_data"
    },
    {
     "name": "stdout",
     "output_type": "stream",
     "text": [
      "done plotting layer1 activation output mosaic\n"
     ]
    }
   ],
   "source": [
    "# 2.  Now output a mosaic of layer 1\n",
    "layeroutput3D      = np.squeeze(my_actvtns_output[0]) #<<---- -try different layer output     \n",
    "ncol =4\n",
    "nrow =np.ceil(numfilters/ncol)\n",
    "plt.figure()\n",
    "for i in range(layeroutput3D.shape[2]):  \n",
    "   plt.subplot(nrow,ncol,i+1)\n",
    "   plt.imshow(layeroutput3D[:,:,i],'gray')\n",
    "   plt.axis('off')\n",
    "#plt.savefig(\"test.png\", bbox_inches='tight')\n",
    "plt.show()\n",
    "print('done plotting layer1 activation output mosaic')\n"
   ]
  },
  {
   "cell_type": "code",
   "execution_count": null,
   "metadata": {},
   "outputs": [],
   "source": []
  }
 ],
 "metadata": {
  "kernelspec": {
   "display_name": "Python 3",
   "language": "python",
   "name": "python3"
  },
  "language_info": {
   "codemirror_mode": {
    "name": "ipython",
    "version": 3
   },
   "file_extension": ".py",
   "mimetype": "text/x-python",
   "name": "python",
   "nbconvert_exporter": "python",
   "pygments_lexer": "ipython3",
   "version": "3.6.9"
  }
 },
 "nbformat": 4,
 "nbformat_minor": 4
}
